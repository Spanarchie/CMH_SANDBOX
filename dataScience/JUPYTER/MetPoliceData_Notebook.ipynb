{
 "cells": [
  {
   "cell_type": "code",
   "execution_count": 15,
   "metadata": {
    "collapsed": false
   },
   "outputs": [],
   "source": [
    "import numpy as np\n",
    "import pandas as pd\n",
    "%matplotlib inline\n",
    "import matplotlib.pyplot as plt\n",
    "import seaborn as sns"
   ]
  },
  {
   "cell_type": "code",
   "execution_count": 5,
   "metadata": {
    "collapsed": false
   },
   "outputs": [],
   "source": [
    "met_df = pd.read_csv('./data/MetPoliceData/2017_04/2017_04_metropolitan_street.csv')"
   ]
  },
  {
   "cell_type": "code",
   "execution_count": 6,
   "metadata": {
    "collapsed": false
   },
   "outputs": [
    {
     "data": {
      "text/html": [
       "<div>\n",
       "<table border=\"1\" class=\"dataframe\">\n",
       "  <thead>\n",
       "    <tr style=\"text-align: right;\">\n",
       "      <th></th>\n",
       "      <th>Crime ID</th>\n",
       "      <th>Month</th>\n",
       "      <th>Reported by</th>\n",
       "      <th>Falls within</th>\n",
       "      <th>Longitude</th>\n",
       "      <th>Latitude</th>\n",
       "      <th>Location</th>\n",
       "      <th>LSOA code</th>\n",
       "      <th>LSOA name</th>\n",
       "      <th>Crime type</th>\n",
       "      <th>Last outcome category</th>\n",
       "      <th>Context</th>\n",
       "    </tr>\n",
       "  </thead>\n",
       "  <tbody>\n",
       "    <tr>\n",
       "      <th>0</th>\n",
       "      <td>55b1a8d84d7bab1047826c2ce8ce675974b517580474a0...</td>\n",
       "      <td>2017-04</td>\n",
       "      <td>Metropolitan Police Service</td>\n",
       "      <td>Metropolitan Police Service</td>\n",
       "      <td>-0.801580</td>\n",
       "      <td>51.822465</td>\n",
       "      <td>On or near Aylesbury Prison</td>\n",
       "      <td>E01017699</td>\n",
       "      <td>Aylesbury Vale 014C</td>\n",
       "      <td>Violence and sexual offences</td>\n",
       "      <td>Under investigation</td>\n",
       "      <td>NaN</td>\n",
       "    </tr>\n",
       "    <tr>\n",
       "      <th>1</th>\n",
       "      <td>NaN</td>\n",
       "      <td>2017-04</td>\n",
       "      <td>Metropolitan Police Service</td>\n",
       "      <td>Metropolitan Police Service</td>\n",
       "      <td>0.145888</td>\n",
       "      <td>51.593835</td>\n",
       "      <td>On or near Providence Place</td>\n",
       "      <td>E01000027</td>\n",
       "      <td>Barking and Dagenham 001A</td>\n",
       "      <td>Anti-social behaviour</td>\n",
       "      <td>NaN</td>\n",
       "      <td>NaN</td>\n",
       "    </tr>\n",
       "    <tr>\n",
       "      <th>2</th>\n",
       "      <td>NaN</td>\n",
       "      <td>2017-04</td>\n",
       "      <td>Metropolitan Police Service</td>\n",
       "      <td>Metropolitan Police Service</td>\n",
       "      <td>0.148098</td>\n",
       "      <td>51.599055</td>\n",
       "      <td>On or near Romford Road</td>\n",
       "      <td>E01000027</td>\n",
       "      <td>Barking and Dagenham 001A</td>\n",
       "      <td>Anti-social behaviour</td>\n",
       "      <td>NaN</td>\n",
       "      <td>NaN</td>\n",
       "    </tr>\n",
       "    <tr>\n",
       "      <th>3</th>\n",
       "      <td>NaN</td>\n",
       "      <td>2017-04</td>\n",
       "      <td>Metropolitan Police Service</td>\n",
       "      <td>Metropolitan Police Service</td>\n",
       "      <td>0.140634</td>\n",
       "      <td>51.583427</td>\n",
       "      <td>On or near Rams Grove</td>\n",
       "      <td>E01000027</td>\n",
       "      <td>Barking and Dagenham 001A</td>\n",
       "      <td>Anti-social behaviour</td>\n",
       "      <td>NaN</td>\n",
       "      <td>NaN</td>\n",
       "    </tr>\n",
       "    <tr>\n",
       "      <th>4</th>\n",
       "      <td>NaN</td>\n",
       "      <td>2017-04</td>\n",
       "      <td>Metropolitan Police Service</td>\n",
       "      <td>Metropolitan Police Service</td>\n",
       "      <td>0.133181</td>\n",
       "      <td>51.586719</td>\n",
       "      <td>On or near Rosehatch Avenue</td>\n",
       "      <td>E01000027</td>\n",
       "      <td>Barking and Dagenham 001A</td>\n",
       "      <td>Anti-social behaviour</td>\n",
       "      <td>NaN</td>\n",
       "      <td>NaN</td>\n",
       "    </tr>\n",
       "  </tbody>\n",
       "</table>\n",
       "</div>"
      ],
      "text/plain": [
       "                                            Crime ID    Month  \\\n",
       "0  55b1a8d84d7bab1047826c2ce8ce675974b517580474a0...  2017-04   \n",
       "1                                                NaN  2017-04   \n",
       "2                                                NaN  2017-04   \n",
       "3                                                NaN  2017-04   \n",
       "4                                                NaN  2017-04   \n",
       "\n",
       "                   Reported by                 Falls within  Longitude  \\\n",
       "0  Metropolitan Police Service  Metropolitan Police Service  -0.801580   \n",
       "1  Metropolitan Police Service  Metropolitan Police Service   0.145888   \n",
       "2  Metropolitan Police Service  Metropolitan Police Service   0.148098   \n",
       "3  Metropolitan Police Service  Metropolitan Police Service   0.140634   \n",
       "4  Metropolitan Police Service  Metropolitan Police Service   0.133181   \n",
       "\n",
       "    Latitude                     Location  LSOA code  \\\n",
       "0  51.822465  On or near Aylesbury Prison  E01017699   \n",
       "1  51.593835  On or near Providence Place  E01000027   \n",
       "2  51.599055      On or near Romford Road  E01000027   \n",
       "3  51.583427        On or near Rams Grove  E01000027   \n",
       "4  51.586719  On or near Rosehatch Avenue  E01000027   \n",
       "\n",
       "                   LSOA name                    Crime type  \\\n",
       "0        Aylesbury Vale 014C  Violence and sexual offences   \n",
       "1  Barking and Dagenham 001A         Anti-social behaviour   \n",
       "2  Barking and Dagenham 001A         Anti-social behaviour   \n",
       "3  Barking and Dagenham 001A         Anti-social behaviour   \n",
       "4  Barking and Dagenham 001A         Anti-social behaviour   \n",
       "\n",
       "  Last outcome category  Context  \n",
       "0   Under investigation      NaN  \n",
       "1                   NaN      NaN  \n",
       "2                   NaN      NaN  \n",
       "3                   NaN      NaN  \n",
       "4                   NaN      NaN  "
      ]
     },
     "execution_count": 6,
     "metadata": {},
     "output_type": "execute_result"
    }
   ],
   "source": [
    "met_df.head()"
   ]
  },
  {
   "cell_type": "code",
   "execution_count": 7,
   "metadata": {
    "collapsed": false
   },
   "outputs": [
    {
     "data": {
      "text/plain": [
       "82377"
      ]
     },
     "execution_count": 7,
     "metadata": {},
     "output_type": "execute_result"
    }
   ],
   "source": [
    "len(met_df)"
   ]
  },
  {
   "cell_type": "code",
   "execution_count": 16,
   "metadata": {
    "collapsed": false
   },
   "outputs": [],
   "source": [
    "crime_stats = met_df.groupby(\"Crime type\")[\"LSOA code\"].count()"
   ]
  },
  {
   "cell_type": "code",
   "execution_count": 27,
   "metadata": {
    "collapsed": false
   },
   "outputs": [
    {
     "data": {
      "text/plain": [
       "Crime type\n",
       "Anti-social behaviour           19801\n",
       "Bicycle theft                    1654\n",
       "Burglary                         5618\n",
       "Criminal damage and arson        4904\n",
       "Drugs                            2370\n",
       "Other crime                       695\n",
       "Other theft                      8177\n",
       "Possession of weapons             501\n",
       "Public order                     3537\n",
       "Robbery                          2388\n",
       "Shoplifting                      3713\n",
       "Theft from the person            3607\n",
       "Vehicle crime                    8206\n",
       "Violence and sexual offences    16321\n",
       "Name: LSOA code, dtype: int64"
      ]
     },
     "execution_count": 27,
     "metadata": {},
     "output_type": "execute_result"
    }
   ],
   "source": [
    "crime_stats\n"
   ]
  },
  {
   "cell_type": "code",
   "execution_count": 32,
   "metadata": {
    "collapsed": false
   },
   "outputs": [
    {
     "data": {
      "text/plain": [
       "<matplotlib.axes._subplots.AxesSubplot at 0x7fbbe5840860>"
      ]
     },
     "execution_count": 32,
     "metadata": {},
     "output_type": "execute_result"
    },
    {
     "data": {
      "image/png": "[encoded data removed]",
      "text/plain": [
       "<matplotlib.figure.Figure at 0x7fbbe5b7f710>"
      ]
     },
     "metadata": {},
     "output_type": "display_data"
    }
   ],
   "source": [
    "crime_stats.plot()"
   ]
  },
  {
   "cell_type": "code",
   "execution_count": null,
   "metadata": {
    "collapsed": false
   },
   "outputs": [],
   "source": []
  }
 ],
 "metadata": {
  "kernelspec": {
   "display_name": "Python 3",
   "language": "python",
   "name": "python3"
  },
  "language_info": {
   "codemirror_mode": {
    "name": "ipython",
    "version": 3
   },
   "file_extension": ".py",
   "mimetype": "text/x-python",
   "name": "python",
   "nbconvert_exporter": "python",
   "pygments_lexer": "ipython3",
   "version": "3.4.3"
  }
 },
 "nbformat": 4,
 "nbformat_minor": 0
}
